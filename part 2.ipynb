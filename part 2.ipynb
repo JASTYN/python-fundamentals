{
 "cells": [
  {
   "cell_type": "code",
   "execution_count": 1,
   "id": "d26ae766",
   "metadata": {},
   "outputs": [],
   "source": [
    "#loops"
   ]
  },
  {
   "cell_type": "code",
   "execution_count": 6,
   "id": "50edbcb7",
   "metadata": {},
   "outputs": [
    {
     "name": "stdout",
     "output_type": "stream",
     "text": [
      "['white', 'yellow', 'green', 'purple', 'blue']\n",
      "['white', 'white', 'green', 'purple', 'blue']\n",
      "['white', 'white', 'white', 'purple', 'blue']\n",
      "['white', 'white', 'white', 'white', 'blue']\n",
      "['white', 'white', 'white', 'white', 'white']\n"
     ]
    }
   ],
   "source": [
    "squares =[\"red\", \"yellow\", \"green\",\"purple\",\"blue\"]\n",
    "for i in range (0,5):\n",
    "    squares[i]=\"white\"\n",
    "    print(squares)"
   ]
  },
  {
   "cell_type": "code",
   "execution_count": 7,
   "id": "8ce1a402",
   "metadata": {},
   "outputs": [],
   "source": [
    "squares1 = ['orange','orange','purple','blue']"
   ]
  },
  {
   "cell_type": "code",
   "execution_count": 8,
   "id": "2dbda54a",
   "metadata": {},
   "outputs": [],
   "source": [
    "newsquare=[]\n",
    "i=0\n"
   ]
  },
  {
   "cell_type": "code",
   "execution_count": null,
   "id": "9fc3f28b",
   "metadata": {},
   "outputs": [],
   "source": [
    "while(squares1[i]=='orange'):\n",
    "    newsquare.append(squares[i])\n",
    "    "
   ]
  },
  {
   "cell_type": "code",
   "execution_count": null,
   "id": "84849164",
   "metadata": {},
   "outputs": [],
   "source": [
    "i=i+1"
   ]
  },
  {
   "cell_type": "code",
   "execution_count": 1,
   "id": "d283f580",
   "metadata": {},
   "outputs": [
    {
     "name": "stdout",
     "output_type": "stream",
     "text": [
      "3\n",
      "4\n",
      "5\n"
     ]
    }
   ],
   "source": [
    "A=[3,4,5]\n",
    "\n",
    "for a in A:\n",
    "    print(a)"
   ]
  },
  {
   "cell_type": "code",
   "execution_count": 1,
   "id": "e46b5b95",
   "metadata": {},
   "outputs": [],
   "source": [
    "jasty =[23,56,45,23,12,7]"
   ]
  },
  {
   "cell_type": "code",
   "execution_count": 2,
   "id": "630eabe1",
   "metadata": {},
   "outputs": [],
   "source": [
    "man=sorted(jasty)"
   ]
  },
  {
   "cell_type": "code",
   "execution_count": 3,
   "id": "cf2835b5",
   "metadata": {},
   "outputs": [
    {
     "data": {
      "text/plain": [
       "[7, 12, 23, 23, 45, 56]"
      ]
     },
     "execution_count": 3,
     "metadata": {},
     "output_type": "execute_result"
    }
   ],
   "source": [
    "man"
   ]
  },
  {
   "cell_type": "code",
   "execution_count": 4,
   "id": "be74b6ea",
   "metadata": {},
   "outputs": [
    {
     "data": {
      "text/plain": [
       "[23, 56, 45, 23, 12, 7]"
      ]
     },
     "execution_count": 4,
     "metadata": {},
     "output_type": "execute_result"
    }
   ],
   "source": [
    "jasty\n"
   ]
  },
  {
   "cell_type": "code",
   "execution_count": null,
   "id": "86601e5b",
   "metadata": {},
   "outputs": [],
   "source": []
  }
 ],
 "metadata": {
  "kernelspec": {
   "display_name": "Python 3 (ipykernel)",
   "language": "python",
   "name": "python3"
  },
  "language_info": {
   "codemirror_mode": {
    "name": "ipython",
    "version": 3
   },
   "file_extension": ".py",
   "mimetype": "text/x-python",
   "name": "python",
   "nbconvert_exporter": "python",
   "pygments_lexer": "ipython3",
   "version": "3.9.6"
  }
 },
 "nbformat": 4,
 "nbformat_minor": 5
}
