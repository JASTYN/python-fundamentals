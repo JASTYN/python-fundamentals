{
 "cells": [
  {
   "cell_type": "code",
   "execution_count": 1,
   "id": "9685163b",
   "metadata": {},
   "outputs": [],
   "source": [
    "def add(a):\n",
    "    b=a+1\n",
    "    return b"
   ]
  },
  {
   "cell_type": "code",
   "execution_count": 2,
   "id": "30db6413",
   "metadata": {},
   "outputs": [],
   "source": [
    "c=add(5)"
   ]
  },
  {
   "cell_type": "code",
   "execution_count": 3,
   "id": "07db061d",
   "metadata": {},
   "outputs": [
    {
     "name": "stdout",
     "output_type": "stream",
     "text": [
      "6\n"
     ]
    }
   ],
   "source": [
    "print(c)"
   ]
  },
  {
   "cell_type": "code",
   "execution_count": 4,
   "id": "db415e60",
   "metadata": {},
   "outputs": [
    {
     "data": {
      "text/plain": [
       "6"
      ]
     },
     "execution_count": 4,
     "metadata": {},
     "output_type": "execute_result"
    }
   ],
   "source": [
    "c"
   ]
  },
  {
   "cell_type": "code",
   "execution_count": 5,
   "id": "d2b1890d",
   "metadata": {},
   "outputs": [],
   "source": [
    "def add1(a,b):\n",
    "    c=a+b\n",
    "    return c"
   ]
  },
  {
   "cell_type": "code",
   "execution_count": 6,
   "id": "1b4bbcf2",
   "metadata": {},
   "outputs": [],
   "source": [
    "y =add1(6,8)"
   ]
  },
  {
   "cell_type": "code",
   "execution_count": 7,
   "id": "4235180c",
   "metadata": {},
   "outputs": [
    {
     "data": {
      "text/plain": [
       "14"
      ]
     },
     "execution_count": 7,
     "metadata": {},
     "output_type": "execute_result"
    }
   ],
   "source": [
    "y"
   ]
  },
  {
   "cell_type": "code",
   "execution_count": 8,
   "id": "cf3c08cc",
   "metadata": {},
   "outputs": [],
   "source": [
    "def mult(x,y):\n",
    "    m=x*y\n",
    "    return m\n"
   ]
  },
  {
   "cell_type": "code",
   "execution_count": 9,
   "id": "e32ae4dc",
   "metadata": {},
   "outputs": [],
   "source": [
    "b=mult(6,5)"
   ]
  },
  {
   "cell_type": "code",
   "execution_count": 10,
   "id": "4b83a990",
   "metadata": {},
   "outputs": [
    {
     "data": {
      "text/plain": [
       "30"
      ]
     },
     "execution_count": 10,
     "metadata": {},
     "output_type": "execute_result"
    }
   ],
   "source": [
    "b"
   ]
  },
  {
   "cell_type": "code",
   "execution_count": 11,
   "id": "a9b7aa0b",
   "metadata": {},
   "outputs": [],
   "source": [
    "def f(*x):\n",
    "    return sum(c)"
   ]
  },
  {
   "cell_type": "code",
   "execution_count": null,
   "id": "56768a56",
   "metadata": {},
   "outputs": [],
   "source": [
    "#classes"
   ]
  },
  {
   "cell_type": "code",
   "execution_count": 6,
   "id": "4253acd4",
   "metadata": {},
   "outputs": [],
   "source": [
    "class Rectangle (object):\n",
    "    def _init_(self, colour, height, width):\n",
    "        self.height =height\n",
    "        self.width =width\n",
    "        self.color = color"
   ]
  },
  {
   "cell_type": "code",
   "execution_count": 4,
   "id": "185b5b93",
   "metadata": {},
   "outputs": [],
   "source": [
    "class Circle():\n",
    "    def _init_(self,radius,color):\n",
    "        self.radius=radius\n",
    "        self.color=color"
   ]
  },
  {
   "cell_type": "code",
   "execution_count": 11,
   "id": "725c77e1",
   "metadata": {},
   "outputs": [],
   "source": [
    "c=Circle()"
   ]
  },
  {
   "cell_type": "code",
   "execution_count": 6,
   "id": "859f4738",
   "metadata": {},
   "outputs": [
    {
     "ename": "AttributeError",
     "evalue": "'Circle' object has no attribute 'radius'",
     "output_type": "error",
     "traceback": [
      "\u001b[1;31m---------------------------------------------------------------------------\u001b[0m",
      "\u001b[1;31mAttributeError\u001b[0m                            Traceback (most recent call last)",
      "\u001b[1;32m~\\AppData\\Local\\Temp/ipykernel_7808/3302011437.py\u001b[0m in \u001b[0;36m<module>\u001b[1;34m\u001b[0m\n\u001b[1;32m----> 1\u001b[1;33m \u001b[0mc\u001b[0m\u001b[1;33m.\u001b[0m\u001b[0mradius\u001b[0m\u001b[1;33m\u001b[0m\u001b[1;33m\u001b[0m\u001b[0m\n\u001b[0m",
      "\u001b[1;31mAttributeError\u001b[0m: 'Circle' object has no attribute 'radius'"
     ]
    }
   ],
   "source": [
    "c.radius"
   ]
  },
  {
   "cell_type": "code",
   "execution_count": 7,
   "id": "52c60159",
   "metadata": {},
   "outputs": [],
   "source": [
    "class Rectangle (object):\n",
    "    def _init_(self, colour, height, width):\n",
    "        self.height =height\n",
    "        self.width =width\n",
    "        self.color = color"
   ]
  },
  {
   "cell_type": "code",
   "execution_count": 9,
   "id": "76fab06a",
   "metadata": {},
   "outputs": [],
   "source": [
    "rect =Rectangle()"
   ]
  },
  {
   "cell_type": "code",
   "execution_count": 10,
   "id": "b24e0a70",
   "metadata": {},
   "outputs": [
    {
     "data": {
      "text/plain": [
       "<__main__.Rectangle at 0x2626fa0c8b0>"
      ]
     },
     "execution_count": 10,
     "metadata": {},
     "output_type": "execute_result"
    }
   ],
   "source": [
    "rect"
   ]
  },
  {
   "cell_type": "code",
   "execution_count": null,
   "id": "20490fd2",
   "metadata": {},
   "outputs": [],
   "source": []
  }
 ],
 "metadata": {
  "kernelspec": {
   "display_name": "Python 3 (ipykernel)",
   "language": "python",
   "name": "python3"
  },
  "language_info": {
   "codemirror_mode": {
    "name": "ipython",
    "version": 3
   },
   "file_extension": ".py",
   "mimetype": "text/x-python",
   "name": "python",
   "nbconvert_exporter": "python",
   "pygments_lexer": "ipython3",
   "version": "3.9.6"
  }
 },
 "nbformat": 4,
 "nbformat_minor": 5
}
