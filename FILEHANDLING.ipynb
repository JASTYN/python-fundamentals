{
 "cells": [
  {
   "cell_type": "code",
   "execution_count": 7,
   "id": "56a5da0e",
   "metadata": {},
   "outputs": [
    {
     "name": "stdout",
     "output_type": "stream",
     "text": [
      "hello\n"
     ]
    }
   ],
   "source": [
    "with open(\"jasty.txt\",\"r\") as File1:\n",
    "    file_stuff1=File1.readline()\n",
    "    print(file_stuff1)\n",
    "    \n",
    "    "
   ]
  },
  {
   "cell_type": "code",
   "execution_count": 14,
   "id": "02fe5730",
   "metadata": {},
   "outputs": [],
   "source": [
    "file2=open(\"jasty.txt\",\"w+\")"
   ]
  },
  {
   "cell_type": "code",
   "execution_count": 15,
   "id": "95ef8fd3",
   "metadata": {},
   "outputs": [],
   "source": [
    "lines =\"this is a line\""
   ]
  },
  {
   "cell_type": "code",
   "execution_count": 16,
   "id": "d4b5def4",
   "metadata": {},
   "outputs": [
    {
     "data": {
      "text/plain": [
       "14"
      ]
     },
     "execution_count": 16,
     "metadata": {},
     "output_type": "execute_result"
    }
   ],
   "source": [
    "file2.write(lines)"
   ]
  },
  {
   "cell_type": "code",
   "execution_count": null,
   "id": "bc064654",
   "metadata": {},
   "outputs": [],
   "source": []
  }
 ],
 "metadata": {
  "kernelspec": {
   "display_name": "Python 3 (ipykernel)",
   "language": "python",
   "name": "python3"
  },
  "language_info": {
   "codemirror_mode": {
    "name": "ipython",
    "version": 3
   },
   "file_extension": ".py",
   "mimetype": "text/x-python",
   "name": "python",
   "nbconvert_exporter": "python",
   "pygments_lexer": "ipython3",
   "version": "3.9.6"
  }
 },
 "nbformat": 4,
 "nbformat_minor": 5
}
