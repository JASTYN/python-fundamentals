{
 "cells": [
  {
   "cell_type": "code",
   "execution_count": 2,
   "id": "e83dc483",
   "metadata": {},
   "outputs": [
    {
     "data": {
      "text/plain": [
       "float"
      ]
     },
     "execution_count": 2,
     "metadata": {},
     "output_type": "execute_result"
    }
   ],
   "source": [
    "type(1.1)"
   ]
  },
  {
   "cell_type": "code",
   "execution_count": 4,
   "id": "3eecc9cb",
   "metadata": {},
   "outputs": [
    {
     "data": {
      "text/plain": [
       "True"
      ]
     },
     "execution_count": 4,
     "metadata": {},
     "output_type": "execute_result"
    }
   ],
   "source": [
    "bool(1)"
   ]
  },
  {
   "cell_type": "code",
   "execution_count": 5,
   "id": "cda40d53",
   "metadata": {},
   "outputs": [
    {
     "data": {
      "text/plain": [
       "1"
      ]
     },
     "execution_count": 5,
     "metadata": {},
     "output_type": "execute_result"
    }
   ],
   "source": [
    "int(1)"
   ]
  },
  {
   "cell_type": "code",
   "execution_count": 6,
   "id": "47514367",
   "metadata": {},
   "outputs": [
    {
     "data": {
      "text/plain": [
       "46"
      ]
     },
     "execution_count": 6,
     "metadata": {},
     "output_type": "execute_result"
    }
   ],
   "source": [
    "23+23"
   ]
  },
  {
   "cell_type": "code",
   "execution_count": 7,
   "id": "6f22e767",
   "metadata": {},
   "outputs": [
    {
     "data": {
      "text/plain": [
       "-10"
      ]
     },
     "execution_count": 7,
     "metadata": {},
     "output_type": "execute_result"
    }
   ],
   "source": [
    "50-60"
   ]
  },
  {
   "cell_type": "code",
   "execution_count": 9,
   "id": "3bda6447",
   "metadata": {},
   "outputs": [
    {
     "data": {
      "text/plain": [
       "3"
      ]
     },
     "execution_count": 9,
     "metadata": {},
     "output_type": "execute_result"
    }
   ],
   "source": [
    "25//8\n"
   ]
  },
  {
   "cell_type": "code",
   "execution_count": 10,
   "id": "2e007fe6",
   "metadata": {},
   "outputs": [
    {
     "data": {
      "text/plain": [
       "'michael jasckson'"
      ]
     },
     "execution_count": 10,
     "metadata": {},
     "output_type": "execute_result"
    }
   ],
   "source": [
    "name=\"michael jasckson\"\n",
    "name"
   ]
  },
  {
   "cell_type": "code",
   "execution_count": 11,
   "id": "0d95100d",
   "metadata": {},
   "outputs": [
    {
     "data": {
      "text/plain": [
       "'mich'"
      ]
     },
     "execution_count": 11,
     "metadata": {},
     "output_type": "execute_result"
    }
   ],
   "source": [
    "name[0:4]"
   ]
  },
  {
   "cell_type": "code",
   "execution_count": 12,
   "id": "37248da9",
   "metadata": {},
   "outputs": [
    {
     "data": {
      "text/plain": [
       "'a'"
      ]
     },
     "execution_count": 12,
     "metadata": {},
     "output_type": "execute_result"
    }
   ],
   "source": [
    "name[4]"
   ]
  },
  {
   "cell_type": "code",
   "execution_count": 13,
   "id": "57c0be83",
   "metadata": {},
   "outputs": [
    {
     "data": {
      "text/plain": [
       "16"
      ]
     },
     "execution_count": 13,
     "metadata": {},
     "output_type": "execute_result"
    }
   ],
   "source": [
    "len(name)"
   ]
  },
  {
   "cell_type": "code",
   "execution_count": 14,
   "id": "81319832",
   "metadata": {},
   "outputs": [
    {
     "data": {
      "text/plain": [
       "'michael jascksonmichael jascksonmichael jasckson'"
      ]
     },
     "execution_count": 14,
     "metadata": {},
     "output_type": "execute_result"
    }
   ],
   "source": [
    "3*name"
   ]
  },
  {
   "cell_type": "code",
   "execution_count": 15,
   "id": "2b01fd14",
   "metadata": {},
   "outputs": [],
   "source": [
    "names = name + \"is the best\""
   ]
  },
  {
   "cell_type": "code",
   "execution_count": 16,
   "id": "b4de2484",
   "metadata": {},
   "outputs": [
    {
     "data": {
      "text/plain": [
       "'michael jascksonis the best'"
      ]
     },
     "execution_count": 16,
     "metadata": {},
     "output_type": "execute_result"
    }
   ],
   "source": [
    "names"
   ]
  },
  {
   "cell_type": "code",
   "execution_count": 17,
   "id": "3ec72f82",
   "metadata": {},
   "outputs": [],
   "source": [
    "A = \"Thriller is the sixth\""
   ]
  },
  {
   "cell_type": "code",
   "execution_count": 18,
   "id": "02a303e3",
   "metadata": {},
   "outputs": [
    {
     "data": {
      "text/plain": [
       "'THRILLER IS THE SIXTH'"
      ]
     },
     "execution_count": 18,
     "metadata": {},
     "output_type": "execute_result"
    }
   ],
   "source": [
    "b= A.upper()\n",
    "b"
   ]
  },
  {
   "cell_type": "code",
   "execution_count": 19,
   "id": "0b289640",
   "metadata": {},
   "outputs": [],
   "source": [
    "c = A.find(\"is\")"
   ]
  },
  {
   "cell_type": "code",
   "execution_count": 20,
   "id": "dccec589",
   "metadata": {},
   "outputs": [
    {
     "data": {
      "text/plain": [
       "9"
      ]
     },
     "execution_count": 20,
     "metadata": {},
     "output_type": "execute_result"
    }
   ],
   "source": [
    "c"
   ]
  },
  {
   "cell_type": "code",
   "execution_count": 21,
   "id": "cfb63311",
   "metadata": {},
   "outputs": [],
   "source": [
    "l = ['michael',20,57]"
   ]
  },
  {
   "cell_type": "code",
   "execution_count": 22,
   "id": "f6682265",
   "metadata": {},
   "outputs": [],
   "source": [
    "l.extend([\"pop\",10])"
   ]
  },
  {
   "cell_type": "code",
   "execution_count": 23,
   "id": "76788f0b",
   "metadata": {},
   "outputs": [
    {
     "data": {
      "text/plain": [
       "['michael', 20, 57, 'pop', 10]"
      ]
     },
     "execution_count": 23,
     "metadata": {},
     "output_type": "execute_result"
    }
   ],
   "source": [
    "l"
   ]
  },
  {
   "cell_type": "code",
   "execution_count": 24,
   "id": "b60bd5fa",
   "metadata": {},
   "outputs": [],
   "source": [
    "l.append([\"pop\",10])"
   ]
  },
  {
   "cell_type": "code",
   "execution_count": 25,
   "id": "bed01efc",
   "metadata": {},
   "outputs": [
    {
     "data": {
      "text/plain": [
       "['michael', 20, 57, 'pop', 10, ['pop', 10]]"
      ]
     },
     "execution_count": 25,
     "metadata": {},
     "output_type": "execute_result"
    }
   ],
   "source": [
    "l"
   ]
  },
  {
   "cell_type": "code",
   "execution_count": 29,
   "id": "95588e3d",
   "metadata": {},
   "outputs": [],
   "source": [
    "del(l[0])"
   ]
  },
  {
   "cell_type": "code",
   "execution_count": 30,
   "id": "22426a16",
   "metadata": {},
   "outputs": [
    {
     "data": {
      "text/plain": [
       "[20, 57, 'pop', 10, ['pop', 10]]"
      ]
     },
     "execution_count": 30,
     "metadata": {},
     "output_type": "execute_result"
    }
   ],
   "source": [
    "l"
   ]
  },
  {
   "cell_type": "code",
   "execution_count": null,
   "id": "81019219",
   "metadata": {},
   "outputs": [],
   "source": []
  }
 ],
 "metadata": {
  "kernelspec": {
   "display_name": "Python 3 (ipykernel)",
   "language": "python",
   "name": "python3"
  },
  "language_info": {
   "codemirror_mode": {
    "name": "ipython",
    "version": 3
   },
   "file_extension": ".py",
   "mimetype": "text/x-python",
   "name": "python",
   "nbconvert_exporter": "python",
   "pygments_lexer": "ipython3",
   "version": "3.9.6"
  }
 },
 "nbformat": 4,
 "nbformat_minor": 5
}
