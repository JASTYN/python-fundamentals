{
 "cells": [
  {
   "cell_type": "code",
   "execution_count": 2,
   "id": "f5304c52",
   "metadata": {},
   "outputs": [
    {
     "data": {
      "text/plain": [
       "float"
      ]
     },
     "execution_count": 2,
     "metadata": {},
     "output_type": "execute_result"
    }
   ],
   "source": [
    "type(1.1)"
   ]
  },
  {
   "cell_type": "code",
   "execution_count": 4,
   "id": "0f2382be",
   "metadata": {},
   "outputs": [
    {
     "data": {
      "text/plain": [
       "True"
      ]
     },
     "execution_count": 4,
     "metadata": {},
     "output_type": "execute_result"
    }
   ],
   "source": [
    "bool(1)"
   ]
  },
  {
   "cell_type": "code",
   "execution_count": 5,
   "id": "d1a5dfd4",
   "metadata": {},
   "outputs": [
    {
     "data": {
      "text/plain": [
       "1"
      ]
     },
     "execution_count": 5,
     "metadata": {},
     "output_type": "execute_result"
    }
   ],
   "source": [
    "int(1)"
   ]
  },
  {
   "cell_type": "code",
   "execution_count": 6,
   "id": "4aec6edd",
   "metadata": {},
   "outputs": [
    {
     "data": {
      "text/plain": [
       "46"
      ]
     },
     "execution_count": 6,
     "metadata": {},
     "output_type": "execute_result"
    }
   ],
   "source": [
    "23+23"
   ]
  },
  {
   "cell_type": "code",
   "execution_count": 7,
   "id": "c3918083",
   "metadata": {},
   "outputs": [
    {
     "data": {
      "text/plain": [
       "-10"
      ]
     },
     "execution_count": 7,
     "metadata": {},
     "output_type": "execute_result"
    }
   ],
   "source": [
    "50-60"
   ]
  },
  {
   "cell_type": "code",
   "execution_count": 9,
   "id": "32e373c5",
   "metadata": {},
   "outputs": [
    {
     "data": {
      "text/plain": [
       "3"
      ]
     },
     "execution_count": 9,
     "metadata": {},
     "output_type": "execute_result"
    }
   ],
   "source": [
    "25//8\n"
   ]
  },
  {
   "cell_type": "code",
   "execution_count": 10,
   "id": "a7cbc156",
   "metadata": {},
   "outputs": [
    {
     "data": {
      "text/plain": [
       "'michael jasckson'"
      ]
     },
     "execution_count": 10,
     "metadata": {},
     "output_type": "execute_result"
    }
   ],
   "source": [
    "name=\"michael jasckson\"\n",
    "name"
   ]
  },
  {
   "cell_type": "code",
   "execution_count": 11,
   "id": "5875cb6e",
   "metadata": {},
   "outputs": [
    {
     "data": {
      "text/plain": [
       "'mich'"
      ]
     },
     "execution_count": 11,
     "metadata": {},
     "output_type": "execute_result"
    }
   ],
   "source": [
    "name[0:4]"
   ]
  },
  {
   "cell_type": "code",
   "execution_count": 12,
   "id": "2680fbdf",
   "metadata": {},
   "outputs": [
    {
     "data": {
      "text/plain": [
       "'a'"
      ]
     },
     "execution_count": 12,
     "metadata": {},
     "output_type": "execute_result"
    }
   ],
   "source": [
    "name[4]"
   ]
  },
  {
   "cell_type": "code",
   "execution_count": 13,
   "id": "b422ceb6",
   "metadata": {},
   "outputs": [
    {
     "data": {
      "text/plain": [
       "16"
      ]
     },
     "execution_count": 13,
     "metadata": {},
     "output_type": "execute_result"
    }
   ],
   "source": [
    "len(name)"
   ]
  },
  {
   "cell_type": "code",
   "execution_count": 14,
   "id": "db745c1e",
   "metadata": {},
   "outputs": [
    {
     "data": {
      "text/plain": [
       "'michael jascksonmichael jascksonmichael jasckson'"
      ]
     },
     "execution_count": 14,
     "metadata": {},
     "output_type": "execute_result"
    }
   ],
   "source": [
    "3*name"
   ]
  },
  {
   "cell_type": "code",
   "execution_count": 15,
   "id": "8a553ac0",
   "metadata": {},
   "outputs": [],
   "source": [
    "names = name + \"is the best\""
   ]
  },
  {
   "cell_type": "code",
   "execution_count": 16,
   "id": "785a663a",
   "metadata": {},
   "outputs": [
    {
     "data": {
      "text/plain": [
       "'michael jascksonis the best'"
      ]
     },
     "execution_count": 16,
     "metadata": {},
     "output_type": "execute_result"
    }
   ],
   "source": [
    "names"
   ]
  },
  {
   "cell_type": "code",
   "execution_count": 17,
   "id": "76da111e",
   "metadata": {},
   "outputs": [],
   "source": [
    "A = \"Thriller is the sixth\""
   ]
  },
  {
   "cell_type": "code",
   "execution_count": 18,
   "id": "2182e087",
   "metadata": {},
   "outputs": [
    {
     "data": {
      "text/plain": [
       "'THRILLER IS THE SIXTH'"
      ]
     },
     "execution_count": 18,
     "metadata": {},
     "output_type": "execute_result"
    }
   ],
   "source": [
    "b= A.upper()\n",
    "b"
   ]
  },
  {
   "cell_type": "code",
   "execution_count": 19,
   "id": "0e9eb98a",
   "metadata": {},
   "outputs": [],
   "source": [
    "c = A.find(\"is\")"
   ]
  },
  {
   "cell_type": "code",
   "execution_count": 20,
   "id": "adfe5bf1",
   "metadata": {},
   "outputs": [
    {
     "data": {
      "text/plain": [
       "9"
      ]
     },
     "execution_count": 20,
     "metadata": {},
     "output_type": "execute_result"
    }
   ],
   "source": [
    "c"
   ]
  },
  {
   "cell_type": "code",
   "execution_count": 21,
   "id": "8c0d9ac3",
   "metadata": {},
   "outputs": [],
   "source": [
    "l = ['michael',20,57]"
   ]
  },
  {
   "cell_type": "code",
   "execution_count": 22,
   "id": "7134912b",
   "metadata": {},
   "outputs": [],
   "source": [
    "l.extend([\"pop\",10])"
   ]
  },
  {
   "cell_type": "code",
   "execution_count": 23,
   "id": "67c0fa4a",
   "metadata": {},
   "outputs": [
    {
     "data": {
      "text/plain": [
       "['michael', 20, 57, 'pop', 10]"
      ]
     },
     "execution_count": 23,
     "metadata": {},
     "output_type": "execute_result"
    }
   ],
   "source": [
    "l"
   ]
  },
  {
   "cell_type": "code",
   "execution_count": 24,
   "id": "5580d19d",
   "metadata": {},
   "outputs": [],
   "source": [
    "l.append([\"pop\",10])"
   ]
  },
  {
   "cell_type": "code",
   "execution_count": 25,
   "id": "9b350ece",
   "metadata": {},
   "outputs": [
    {
     "data": {
      "text/plain": [
       "['michael', 20, 57, 'pop', 10, ['pop', 10]]"
      ]
     },
     "execution_count": 25,
     "metadata": {},
     "output_type": "execute_result"
    }
   ],
   "source": [
    "l"
   ]
  },
  {
   "cell_type": "code",
   "execution_count": 29,
   "id": "7c1c8769",
   "metadata": {},
   "outputs": [],
   "source": [
    "del(l[0])"
   ]
  },
  {
   "cell_type": "code",
   "execution_count": 30,
   "id": "fe2e3a56",
   "metadata": {},
   "outputs": [
    {
     "data": {
      "text/plain": [
       "[20, 57, 'pop', 10, ['pop', 10]]"
      ]
     },
     "execution_count": 30,
     "metadata": {},
     "output_type": "execute_result"
    }
   ],
   "source": [
    "l"
   ]
  },
  {
   "cell_type": "code",
   "execution_count": 33,
   "id": "b2f0204b",
   "metadata": {},
   "outputs": [],
   "source": [
    "#help(l)"
   ]
  },
  {
   "cell_type": "code",
   "execution_count": 34,
   "id": "2b676149",
   "metadata": {},
   "outputs": [],
   "source": [
    "a ={'michael',20,57}"
   ]
  },
  {
   "cell_type": "code",
   "execution_count": 35,
   "id": "b2f17b64",
   "metadata": {},
   "outputs": [
    {
     "data": {
      "text/plain": [
       "True"
      ]
     },
     "execution_count": 35,
     "metadata": {},
     "output_type": "execute_result"
    }
   ],
   "source": [
    "20 in a"
   ]
  },
  {
   "cell_type": "code",
   "execution_count": 37,
   "id": "80860004",
   "metadata": {},
   "outputs": [],
   "source": [
    "b = {78,20,57}"
   ]
  },
  {
   "cell_type": "code",
   "execution_count": 38,
   "id": "4753f5a5",
   "metadata": {},
   "outputs": [
    {
     "data": {
      "text/plain": [
       "{20, 57, 78}"
      ]
     },
     "execution_count": 38,
     "metadata": {},
     "output_type": "execute_result"
    }
   ],
   "source": [
    "b"
   ]
  },
  {
   "cell_type": "code",
   "execution_count": 39,
   "id": "89010a69",
   "metadata": {},
   "outputs": [
    {
     "data": {
      "text/plain": [
       "{20, 57}"
      ]
     },
     "execution_count": 39,
     "metadata": {},
     "output_type": "execute_result"
    }
   ],
   "source": [
    "a&b"
   ]
  },
  {
   "cell_type": "code",
   "execution_count": 40,
   "id": "0ef6847c",
   "metadata": {},
   "outputs": [
    {
     "data": {
      "text/plain": [
       "{'michael'}"
      ]
     },
     "execution_count": 40,
     "metadata": {},
     "output_type": "execute_result"
    }
   ],
   "source": [
    "a-b"
   ]
  },
  {
   "cell_type": "code",
   "execution_count": 41,
   "id": "989c59af",
   "metadata": {},
   "outputs": [
    {
     "data": {
      "text/plain": [
       "{20, 57, 78, 'michael'}"
      ]
     },
     "execution_count": 41,
     "metadata": {},
     "output_type": "execute_result"
    }
   ],
   "source": [
    "a.union(b)"
   ]
  },
  {
   "cell_type": "code",
   "execution_count": 42,
   "id": "a6121793",
   "metadata": {},
   "outputs": [],
   "source": [
    "S={'A','B','C'}"
   ]
  },
  {
   "cell_type": "code",
   "execution_count": 43,
   "id": "c39b9528",
   "metadata": {},
   "outputs": [],
   "source": [
    "U={'A','Z','C'}"
   ]
  },
  {
   "cell_type": "code",
   "execution_count": 44,
   "id": "ebd8c59d",
   "metadata": {},
   "outputs": [
    {
     "data": {
      "text/plain": [
       "{'A', 'C'}"
      ]
     },
     "execution_count": 44,
     "metadata": {},
     "output_type": "execute_result"
    }
   ],
   "source": [
    "S&U"
   ]
  },
  {
   "cell_type": "code",
   "execution_count": 45,
   "id": "fc0cd08a",
   "metadata": {},
   "outputs": [],
   "source": [
    "a=6"
   ]
  },
  {
   "cell_type": "code",
   "execution_count": 46,
   "id": "f8a7a2c8",
   "metadata": {},
   "outputs": [
    {
     "data": {
      "text/plain": [
       "True"
      ]
     },
     "execution_count": 46,
     "metadata": {},
     "output_type": "execute_result"
    }
   ],
   "source": [
    "a==6"
   ]
  },
  {
   "cell_type": "code",
   "execution_count": 48,
   "id": "98c606e7",
   "metadata": {},
   "outputs": [
    {
     "name": "stdout",
     "output_type": "stream",
     "text": [
      "you can enter\n"
     ]
    }
   ],
   "source": [
    "age=20\n",
    "if(age>18):\n",
    "    print(\"you can enter\")"
   ]
  },
  {
   "cell_type": "code",
   "execution_count": null,
   "id": "a5f0f0f2",
   "metadata": {},
   "outputs": [],
   "source": []
  }
 ],
 "metadata": {
  "kernelspec": {
   "display_name": "Python 3 (ipykernel)",
   "language": "python",
   "name": "python3"
  },
  "language_info": {
   "codemirror_mode": {
    "name": "ipython",
    "version": 3
   },
   "file_extension": ".py",
   "mimetype": "text/x-python",
   "name": "python",
   "nbconvert_exporter": "python",
   "pygments_lexer": "ipython3",
   "version": "3.9.6"
  }
 },
 "nbformat": 4,
 "nbformat_minor": 5
}
