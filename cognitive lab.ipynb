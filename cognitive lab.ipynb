{
 "cells": [
  {
   "cell_type": "code",
   "execution_count": 2,
   "id": "31f25542",
   "metadata": {},
   "outputs": [
    {
     "data": {
      "text/plain": [
       "float"
      ]
     },
     "execution_count": 2,
     "metadata": {},
     "output_type": "execute_result"
    }
   ],
   "source": [
    "type(1.1)"
   ]
  },
  {
   "cell_type": "code",
   "execution_count": 4,
   "id": "41929122",
   "metadata": {},
   "outputs": [
    {
     "data": {
      "text/plain": [
       "True"
      ]
     },
     "execution_count": 4,
     "metadata": {},
     "output_type": "execute_result"
    }
   ],
   "source": [
    "bool(1)"
   ]
  },
  {
   "cell_type": "code",
   "execution_count": 5,
   "id": "17af63e4",
   "metadata": {},
   "outputs": [
    {
     "data": {
      "text/plain": [
       "1"
      ]
     },
     "execution_count": 5,
     "metadata": {},
     "output_type": "execute_result"
    }
   ],
   "source": [
    "int(1)"
   ]
  },
  {
   "cell_type": "code",
   "execution_count": 6,
   "id": "1748a33e",
   "metadata": {},
   "outputs": [
    {
     "data": {
      "text/plain": [
       "46"
      ]
     },
     "execution_count": 6,
     "metadata": {},
     "output_type": "execute_result"
    }
   ],
   "source": [
    "23+23"
   ]
  },
  {
   "cell_type": "code",
   "execution_count": 7,
   "id": "c4ecf9cc",
   "metadata": {},
   "outputs": [
    {
     "data": {
      "text/plain": [
       "-10"
      ]
     },
     "execution_count": 7,
     "metadata": {},
     "output_type": "execute_result"
    }
   ],
   "source": [
    "50-60"
   ]
  },
  {
   "cell_type": "code",
   "execution_count": 9,
   "id": "e868d480",
   "metadata": {},
   "outputs": [
    {
     "data": {
      "text/plain": [
       "3"
      ]
     },
     "execution_count": 9,
     "metadata": {},
     "output_type": "execute_result"
    }
   ],
   "source": [
    "25//8\n"
   ]
  },
  {
   "cell_type": "code",
   "execution_count": 10,
   "id": "cb3e68fa",
   "metadata": {},
   "outputs": [
    {
     "data": {
      "text/plain": [
       "'michael jasckson'"
      ]
     },
     "execution_count": 10,
     "metadata": {},
     "output_type": "execute_result"
    }
   ],
   "source": [
    "name=\"michael jasckson\"\n",
    "name"
   ]
  },
  {
   "cell_type": "code",
   "execution_count": 11,
   "id": "de811ea4",
   "metadata": {},
   "outputs": [
    {
     "data": {
      "text/plain": [
       "'mich'"
      ]
     },
     "execution_count": 11,
     "metadata": {},
     "output_type": "execute_result"
    }
   ],
   "source": [
    "name[0:4]"
   ]
  },
  {
   "cell_type": "code",
   "execution_count": 12,
   "id": "70f29916",
   "metadata": {},
   "outputs": [
    {
     "data": {
      "text/plain": [
       "'a'"
      ]
     },
     "execution_count": 12,
     "metadata": {},
     "output_type": "execute_result"
    }
   ],
   "source": [
    "name[4]"
   ]
  },
  {
   "cell_type": "code",
   "execution_count": 13,
   "id": "16984b83",
   "metadata": {},
   "outputs": [
    {
     "data": {
      "text/plain": [
       "16"
      ]
     },
     "execution_count": 13,
     "metadata": {},
     "output_type": "execute_result"
    }
   ],
   "source": [
    "len(name)"
   ]
  },
  {
   "cell_type": "code",
   "execution_count": 14,
   "id": "2fc8b35b",
   "metadata": {},
   "outputs": [
    {
     "data": {
      "text/plain": [
       "'michael jascksonmichael jascksonmichael jasckson'"
      ]
     },
     "execution_count": 14,
     "metadata": {},
     "output_type": "execute_result"
    }
   ],
   "source": [
    "3*name"
   ]
  },
  {
   "cell_type": "code",
   "execution_count": 15,
   "id": "fe184db4",
   "metadata": {},
   "outputs": [],
   "source": [
    "names = name + \"is the best\""
   ]
  },
  {
   "cell_type": "code",
   "execution_count": 16,
   "id": "12454a6a",
   "metadata": {},
   "outputs": [
    {
     "data": {
      "text/plain": [
       "'michael jascksonis the best'"
      ]
     },
     "execution_count": 16,
     "metadata": {},
     "output_type": "execute_result"
    }
   ],
   "source": [
    "names"
   ]
  },
  {
   "cell_type": "code",
   "execution_count": 17,
   "id": "31f21a7c",
   "metadata": {},
   "outputs": [],
   "source": [
    "A = \"Thriller is the sixth\""
   ]
  },
  {
   "cell_type": "code",
   "execution_count": 18,
   "id": "bb89c348",
   "metadata": {},
   "outputs": [
    {
     "data": {
      "text/plain": [
       "'THRILLER IS THE SIXTH'"
      ]
     },
     "execution_count": 18,
     "metadata": {},
     "output_type": "execute_result"
    }
   ],
   "source": [
    "b= A.upper()\n",
    "b"
   ]
  },
  {
   "cell_type": "code",
   "execution_count": 19,
   "id": "a63d8499",
   "metadata": {},
   "outputs": [],
   "source": [
    "c = A.find(\"is\")"
   ]
  },
  {
   "cell_type": "code",
   "execution_count": 20,
   "id": "32569ab4",
   "metadata": {},
   "outputs": [
    {
     "data": {
      "text/plain": [
       "9"
      ]
     },
     "execution_count": 20,
     "metadata": {},
     "output_type": "execute_result"
    }
   ],
   "source": [
    "c"
   ]
  },
  {
   "cell_type": "code",
   "execution_count": 21,
   "id": "b3a37268",
   "metadata": {},
   "outputs": [],
   "source": [
    "l = ['michael',20,57]"
   ]
  },
  {
   "cell_type": "code",
   "execution_count": 22,
   "id": "59a4fed0",
   "metadata": {},
   "outputs": [],
   "source": [
    "l.extend([\"pop\",10])"
   ]
  },
  {
   "cell_type": "code",
   "execution_count": 23,
   "id": "6e9f0ab5",
   "metadata": {},
   "outputs": [
    {
     "data": {
      "text/plain": [
       "['michael', 20, 57, 'pop', 10]"
      ]
     },
     "execution_count": 23,
     "metadata": {},
     "output_type": "execute_result"
    }
   ],
   "source": [
    "l"
   ]
  },
  {
   "cell_type": "code",
   "execution_count": 24,
   "id": "5eee6a0e",
   "metadata": {},
   "outputs": [],
   "source": [
    "l.append([\"pop\",10])"
   ]
  },
  {
   "cell_type": "code",
   "execution_count": 25,
   "id": "7a1fe03d",
   "metadata": {},
   "outputs": [
    {
     "data": {
      "text/plain": [
       "['michael', 20, 57, 'pop', 10, ['pop', 10]]"
      ]
     },
     "execution_count": 25,
     "metadata": {},
     "output_type": "execute_result"
    }
   ],
   "source": [
    "l"
   ]
  },
  {
   "cell_type": "code",
   "execution_count": 29,
   "id": "fb2943cf",
   "metadata": {},
   "outputs": [],
   "source": [
    "del(l[0])"
   ]
  },
  {
   "cell_type": "code",
   "execution_count": 30,
   "id": "2f2246e6",
   "metadata": {},
   "outputs": [
    {
     "data": {
      "text/plain": [
       "[20, 57, 'pop', 10, ['pop', 10]]"
      ]
     },
     "execution_count": 30,
     "metadata": {},
     "output_type": "execute_result"
    }
   ],
   "source": [
    "l"
   ]
  },
  {
   "cell_type": "code",
   "execution_count": 33,
   "id": "2d98c091",
   "metadata": {},
   "outputs": [],
   "source": [
    "#help(l)"
   ]
  },
  {
   "cell_type": "code",
   "execution_count": 34,
   "id": "177e6c9d",
   "metadata": {},
   "outputs": [],
   "source": [
    "a ={'michael',20,57}"
   ]
  },
  {
   "cell_type": "code",
   "execution_count": 35,
   "id": "474e5943",
   "metadata": {},
   "outputs": [
    {
     "data": {
      "text/plain": [
       "True"
      ]
     },
     "execution_count": 35,
     "metadata": {},
     "output_type": "execute_result"
    }
   ],
   "source": [
    "20 in a"
   ]
  },
  {
   "cell_type": "code",
   "execution_count": 37,
   "id": "f331b1d0",
   "metadata": {},
   "outputs": [],
   "source": [
    "b = {78,20,57}"
   ]
  },
  {
   "cell_type": "code",
   "execution_count": 38,
   "id": "43b19daf",
   "metadata": {},
   "outputs": [
    {
     "data": {
      "text/plain": [
       "{20, 57, 78}"
      ]
     },
     "execution_count": 38,
     "metadata": {},
     "output_type": "execute_result"
    }
   ],
   "source": [
    "b"
   ]
  },
  {
   "cell_type": "code",
   "execution_count": 39,
   "id": "2a1a8402",
   "metadata": {},
   "outputs": [
    {
     "data": {
      "text/plain": [
       "{20, 57}"
      ]
     },
     "execution_count": 39,
     "metadata": {},
     "output_type": "execute_result"
    }
   ],
   "source": [
    "a&b"
   ]
  },
  {
   "cell_type": "code",
   "execution_count": 40,
   "id": "600b7573",
   "metadata": {},
   "outputs": [
    {
     "data": {
      "text/plain": [
       "{'michael'}"
      ]
     },
     "execution_count": 40,
     "metadata": {},
     "output_type": "execute_result"
    }
   ],
   "source": [
    "a-b"
   ]
  },
  {
   "cell_type": "code",
   "execution_count": 41,
   "id": "b27e94ab",
   "metadata": {},
   "outputs": [
    {
     "data": {
      "text/plain": [
       "{20, 57, 78, 'michael'}"
      ]
     },
     "execution_count": 41,
     "metadata": {},
     "output_type": "execute_result"
    }
   ],
   "source": [
    "a.union(b)"
   ]
  },
  {
   "cell_type": "code",
   "execution_count": 42,
   "id": "846b5977",
   "metadata": {},
   "outputs": [],
   "source": [
    "S={'A','B','C'}"
   ]
  },
  {
   "cell_type": "code",
   "execution_count": 43,
   "id": "ca1a35f2",
   "metadata": {},
   "outputs": [],
   "source": [
    "U={'A','Z','C'}"
   ]
  },
  {
   "cell_type": "code",
   "execution_count": 44,
   "id": "07599c27",
   "metadata": {},
   "outputs": [
    {
     "data": {
      "text/plain": [
       "{'A', 'C'}"
      ]
     },
     "execution_count": 44,
     "metadata": {},
     "output_type": "execute_result"
    }
   ],
   "source": [
    "S&U"
   ]
  },
  {
   "cell_type": "code",
   "execution_count": null,
   "id": "9f162547",
   "metadata": {},
   "outputs": [],
   "source": []
  }
 ],
 "metadata": {
  "kernelspec": {
   "display_name": "Python 3 (ipykernel)",
   "language": "python",
   "name": "python3"
  },
  "language_info": {
   "codemirror_mode": {
    "name": "ipython",
    "version": 3
   },
   "file_extension": ".py",
   "mimetype": "text/x-python",
   "name": "python",
   "nbconvert_exporter": "python",
   "pygments_lexer": "ipython3",
   "version": "3.9.6"
  }
 },
 "nbformat": 4,
 "nbformat_minor": 5
}
